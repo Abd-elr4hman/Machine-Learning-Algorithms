{
  "nbformat": 4,
  "nbformat_minor": 0,
  "metadata": {
    "colab": {
      "name": "K-means.ipynb",
      "provenance": [],
      "collapsed_sections": [],
      "authorship_tag": "ABX9TyMUG5uRR/jCUirrAdqAdE5x",
      "include_colab_link": true
    },
    "kernelspec": {
      "name": "python3",
      "display_name": "Python 3"
    },
    "language_info": {
      "name": "python"
    }
  },
  "cells": [
    {
      "cell_type": "markdown",
      "metadata": {
        "id": "view-in-github",
        "colab_type": "text"
      },
      "source": [
        "<a href=\"https://colab.research.google.com/github/Abd-elr4hman/Machine-Learning-alogarithms/blob/main/K_means.ipynb\" target=\"_parent\"><img src=\"https://colab.research.google.com/assets/colab-badge.svg\" alt=\"Open In Colab\"/></a>"
      ]
    },
    {
      "cell_type": "code",
      "metadata": {
        "id": "0z1VejAztdjE"
      },
      "source": [
        "import numpy as np\n",
        "from sklearn.model_selection import train_test_split\n",
        "from sklearn import datasets\n",
        "import matplotlib.pyplot as plt\n",
        "import seaborn as sns"
      ],
      "execution_count": 35,
      "outputs": []
    },
    {
      "cell_type": "code",
      "metadata": {
        "id": "V0TuF5optg4H"
      },
      "source": [
        "np.random.seed(4)\n",
        "\n",
        "def euclidean_dis(x1,x2):\n",
        "  return np.sqrt(np.sum((x1-x2) ** 2))"
      ],
      "execution_count": 30,
      "outputs": []
    },
    {
      "cell_type": "code",
      "metadata": {
        "id": "Xyw-6bByuDZy"
      },
      "source": [
        "class K_means:\n",
        "    \"\"\"\n",
        "    A class used to implement K-means alogarithm for clustering \n",
        "\n",
        "    Attributes\n",
        "    ----------\n",
        "    k : int\n",
        "        number of clusters \n",
        "    iterations : int\n",
        "        number of iterations to run the alogarithims\n",
        "    clusters : list of ndarrays\n",
        "        list of lists, contains a list for each cluster, \n",
        "        each cluster list contains the indices of associated traning examples\n",
        "    centroids : list of ndarrays\n",
        "        contains k lists each list represents a centroid feature vector\n",
        "    n_examples : int \n",
        "        number of examples in dataset\n",
        "    n_features : int\n",
        "        number of features for each example\n",
        "\n",
        "    Methods\n",
        "    -------\n",
        "    predict(x)\n",
        "        predicts a cluster label for each training example\n",
        "    get_cluster_labels(clusters)\n",
        "        returns the assigned cluster label for each example\n",
        "    create_clusters(centroids)\n",
        "        associates each example with the nearest cluster,\n",
        "        returns list of example indices for each cluster\n",
        "    closest_centroid(example, centroids)\n",
        "        Calculates euclidean distance from each example to centroids, \n",
        "        then return the index of the nearest centroid\n",
        "    update_centroids(clusters)\n",
        "        Calculates the mean of all examples associated with a cluster centroid,\n",
        "        then assigns the cluster centroid to the mean.\n",
        "    is_converged(centroids_old, centroids)\n",
        "        calculates the euclidean distance between centroids_old and centroids,\n",
        "        return True if distance is zero\n",
        "    \"\"\"\n",
        "\n",
        "  def __init__(self, k=5, iterations=100):\n",
        "    self.k= k\n",
        "    self.iterations= iterations\n",
        "\n",
        "    # list of example indecies\n",
        "    self.clusters= [[] for _ in range(self.k)]\n",
        "    # \n",
        "    self.centroids= []\n",
        "\n",
        "  def predict(self, x):\n",
        "    \"\"\"predicts a cluster label for each training example\n",
        "\n",
        "    Parameters\n",
        "    ----------\n",
        "    x : list of ndarrays\n",
        "        list of examples that contain feature vector for each example\n",
        "\n",
        "    Returns\n",
        "    -------\n",
        "    list of ndarrays\n",
        "        list of size n_examples that contain cluster index associated with...\n",
        "        each example\n",
        "    \"\"\"\n",
        "    \n",
        "    self.x= x\n",
        "    self.n_examples, self.n_features= x.shape\n",
        "\n",
        "    # initialize centroids\n",
        "    random_ex_indices= np.random.choice(self.n_examples, self.k, replace= False)\n",
        "    self.centroids= [self.x[index] for index in random_ex_indices]\n",
        "\n",
        "    for _ in range(self.iterations):\n",
        "      # update clusters\n",
        "      self.clusters= self.create_clusters(self.centroids)\n",
        "\n",
        "      # update centroids\n",
        "      centroids_old= self.centroids\n",
        "      self.centroids= self.update_centroids(self.clusters)\n",
        "\n",
        "      # check if converged\n",
        "      if self.is_converged(centroids_old, self.centroids):\n",
        "          break\n",
        "\n",
        "    # return cluster labels\n",
        "    return self.get_cluster_labels(self.clusters)\n",
        "\n",
        "  def get_cluster_labels(self, clusters):\n",
        "    \"\"\"returns the assigned cluster label for each example\n",
        "\n",
        "    Parameters\n",
        "    ----------\n",
        "    clusters : list of ndarrays\n",
        "        list of lists, contains a list for each cluster, \n",
        "        each cluster list contains the indices of associated traning examples\n",
        "\n",
        "    Returns\n",
        "    -------\n",
        "    list of ndarrays\n",
        "        list of size n_examples that contain cluster index associated with...\n",
        "        each example\n",
        "    \"\"\"\n",
        "\n",
        "    labels= np.empty(self.n_examples)\n",
        "    for cluster_index, cluster in enumerate(clusters):\n",
        "      for example_index in cluster:\n",
        "        labels[example_index]= cluster_index\n",
        "    return labels\n",
        "\n",
        "\n",
        "  def create_clusters(self, centroids):\n",
        "    \"\"\"associates each example with the nearest cluster,\n",
        "     returns list of example indices for each cluster\n",
        "\n",
        "    Parameters\n",
        "    ----------\n",
        "    centroids : list of ndarrays\n",
        "        contains k lists each list represents a centroid feature vector\n",
        "\n",
        "    Returns\n",
        "    -------\n",
        "    list of ndarrays\n",
        "        list of lists, contains a list for each cluster, \n",
        "        each cluster list contains the indices of associated traning examples\n",
        "    \"\"\"\n",
        "\n",
        "    # list of example indecies\n",
        "    clusters= [[] for _ in range(self.k)]\n",
        "    \n",
        "    for index, example in enumerate(self.x):\n",
        "      centroid_index= self.closest_centroid(example, centroids)\n",
        "      clusters[centroid_index].append(index)\n",
        "    return clusters\n",
        "\n",
        "\n",
        "  def closest_centroid(self, example, centroids):\n",
        "    \"\"\"Calculates euclidean distance from each example to centroids, \n",
        "    then return the index of the nearest centroid\n",
        "\n",
        "    Parameters\n",
        "    ----------\n",
        "    example : list of ndarrays\n",
        "        contains feature vector of size n_features\n",
        "    centroids : list of ndarrays \n",
        "        contains k lists each list represents a centroid feature vector\n",
        "\n",
        "    Returns\n",
        "    -------\n",
        "    int \n",
        "        index of the closest centroid\n",
        "    \"\"\"\n",
        "\n",
        "    distances= [euclidean_dis(example, point)  for point in centroids]\n",
        "    closest_index= np.argmin(distances)\n",
        "    return closest_index\n",
        "    \n",
        "\n",
        "  def update_centroids(self, clusters):\n",
        "    \"\"\"Calculates the mean of all examples associated with a cluster centroid,\n",
        "    then assigns the cluster centroid to the mean.\n",
        "\n",
        "    Parameters\n",
        "    ----------\n",
        "    clusters : list of ndarrays\n",
        "        list of lists, contains a list for each cluster, \n",
        "        each cluster list contains the indices of associated traning examples\n",
        "\n",
        "    Returns\n",
        "    -------\n",
        "    list of ndarrays \n",
        "        contains k lists each list represents a centroid feature vector\n",
        "    \"\"\"\n",
        "\n",
        "    centroids= np.zeros((self.k, self.n_features))\n",
        "    for cluster_index, cluster in enumerate(clusters):\n",
        "      cluster_mean= np.mean(self.x[cluster], axis=0)\n",
        "      centroids[cluster_index]= cluster_mean\n",
        "    return centroids\n",
        "\n",
        "\n",
        "  def is_converged(self, centroids_old, centroids):\n",
        "    \"\"\"calculates the euclidean distance between centroids_old and centroids,\n",
        "    return True if distance is zero\n",
        "\n",
        "    Parameters\n",
        "    ----------\n",
        "    centroids_old : list of ndarrays\n",
        "        contains k lists each list represents a centroid feature vector\n",
        "    centroids : list of ndarrays \n",
        "        contains k lists each list represents a centroid feature vector\n",
        "\n",
        "    Returns\n",
        "    -------\n",
        "    bool \n",
        "        True if centroids did not move\n",
        "    \"\"\"\n",
        "    distances= [euclidean_dis(centroids_old[i], centroids[i]) for i in range(self.k)]\n",
        "    return sum(distances) == 0\n"
      ],
      "execution_count": 31,
      "outputs": []
    },
    {
      "cell_type": "code",
      "metadata": {
        "colab": {
          "base_uri": "https://localhost:8080/"
        },
        "id": "o0WtFT9gvpek",
        "outputId": "5fcd4864-465f-4ec2-e402-9d8eb19663d8"
      },
      "source": [
        "x,y= datasets.make_blobs(n_samples=500, n_features=2, centers=4, shuffle= True, random_state=42)\n",
        "print(x.shape)\n",
        "print(y.shape)\n"
      ],
      "execution_count": 26,
      "outputs": [
        {
          "output_type": "stream",
          "name": "stdout",
          "text": [
            "(500, 2)\n",
            "(500,)\n"
          ]
        }
      ]
    },
    {
      "cell_type": "code",
      "metadata": {
        "colab": {
          "base_uri": "https://localhost:8080/",
          "height": 282
        },
        "id": "CyN54ckS62En",
        "outputId": "78b3d5bf-526b-4c4d-ed82-d641717bbf5e"
      },
      "source": [
        "fig, ax= plt.subplots()\n",
        "ax.scatter(x[:,0],x[:, 1])"
      ],
      "execution_count": 14,
      "outputs": [
        {
          "output_type": "execute_result",
          "data": {
            "text/plain": [
              "<matplotlib.collections.PathCollection at 0x7f271ba29bd0>"
            ]
          },
          "metadata": {},
          "execution_count": 14
        },
        {
          "output_type": "display_data",
          "data": {
            "image/png": "[encoded data removed]",
            "text/plain": [
              "<Figure size 432x288 with 1 Axes>"
            ]
          },
          "metadata": {
            "needs_background": "light"
          }
        }
      ]
    },
    {
      "cell_type": "code",
      "metadata": {
        "colab": {
          "base_uri": "https://localhost:8080/"
        },
        "id": "8ILHL0Xg7K_q",
        "outputId": "5a72afbc-c27e-4264-d2b6-c99cc7114dc5"
      },
      "source": [
        "k=K_means(k=4, iterations=150)\n",
        "y_pred= k.predict(x)\n",
        "print(y_pred.shape)\n"
      ],
      "execution_count": 47,
      "outputs": [
        {
          "output_type": "stream",
          "name": "stdout",
          "text": [
            "(500,)\n"
          ]
        }
      ]
    },
    {
      "cell_type": "code",
      "metadata": {
        "colab": {
          "base_uri": "https://localhost:8080/",
          "height": 282
        },
        "id": "IRtjth8MtwpQ",
        "outputId": "6b2d291b-4c63-412a-ab5f-4ea2b748e17b"
      },
      "source": [
        "sns.scatterplot(x= x[:,0], y= x[:, 1], data= x, hue= y_pred)"
      ],
      "execution_count": 50,
      "outputs": [
        {
          "output_type": "execute_result",
          "data": {
            "text/plain": [
              "<matplotlib.axes._subplots.AxesSubplot at 0x7f271496efd0>"
            ]
          },
          "metadata": {},
          "execution_count": 50
        },
        {
          "output_type": "display_data",
          "data": {
            "image/png": "[encoded data removed]",
            "text/plain": [
              "<Figure size 432x288 with 1 Axes>"
            ]
          },
          "metadata": {
            "needs_background": "light"
          }
        }
      ]
    }
  ]
}