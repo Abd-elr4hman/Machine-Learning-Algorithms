{
  "nbformat": 4,
  "nbformat_minor": 0,
  "metadata": {
    "colab": {
      "name": "Naive-Bayes.ipynb",
      "provenance": [],
      "authorship_tag": "ABX9TyPIRN4AG9cZ4M92nDCKBILY",
      "include_colab_link": true
    },
    "kernelspec": {
      "name": "python3",
      "display_name": "Python 3"
    },
    "language_info": {
      "name": "python"
    }
  },
  "cells": [
    {
      "cell_type": "markdown",
      "metadata": {
        "id": "view-in-github",
        "colab_type": "text"
      },
      "source": [
        "<a href=\"https://colab.research.google.com/github/Abd-elr4hman/Machine-Learning-Algorithms/blob/main/Naive_Bayes.ipynb\" target=\"_parent\"><img src=\"https://colab.research.google.com/assets/colab-badge.svg\" alt=\"Open In Colab\"/></a>"
      ]
    },
    {
      "cell_type": "code",
      "metadata": {
        "id": "1lM8CJ1Vnm_P"
      },
      "source": [
        "import numpy as np\n",
        "from sklearn.model_selection import train_test_split\n",
        "from sklearn import datasets\n",
        "import matplotlib.pyplot as plt"
      ],
      "execution_count": 8,
      "outputs": []
    },
    {
      "cell_type": "code",
      "metadata": {
        "id": "7oLyAsHlnqPt"
      },
      "source": [
        "# create dataset\n",
        "x,y= datasets.make_classification(n_samples= 1000, n_features=10, n_classes=2)\n",
        "x_train, x_test, y_train, y_test = train_test_split(x,y, test_size= 0.2)"
      ],
      "execution_count": 47,
      "outputs": []
    },
    {
      "cell_type": "code",
      "metadata": {
        "colab": {
          "base_uri": "https://localhost:8080/",
          "height": 282
        },
        "id": "MArRQdvtntIc",
        "outputId": "88392488-277f-43a8-f285-a008c8ca26d8"
      },
      "source": [
        "# plot dataset\n",
        "plt.scatter(x[:, 0],y)"
      ],
      "execution_count": 48,
      "outputs": [
        {
          "output_type": "execute_result",
          "data": {
            "text/plain": [
              "<matplotlib.collections.PathCollection at 0x7fb2891c4950>"
            ]
          },
          "metadata": {},
          "execution_count": 48
        },
        {
          "output_type": "display_data",
          "data": {
            "image/png": "[encoded data removed]",
            "text/plain": [
              "<Figure size 432x288 with 1 Axes>"
            ]
          },
          "metadata": {
            "needs_background": "light"
          }
        }
      ]
    },
    {
      "cell_type": "code",
      "metadata": {
        "id": "2Le1RpXdnuZj"
      },
      "source": [
        "class Naive_Bayes:\n",
        "  def fit(self, x, y):\n",
        "    self.classes= np.unique(y)\n",
        "    self.n_classes= len(self.classes)\n",
        "    self.n_examples, self.n_features= x_train.shape\n",
        "\n",
        "    # instantiate mean, var, prior for each class\n",
        "    self.mean= np.zeros((self.n_classes, self.n_features), dtype= np.float64)\n",
        "    self.var= np.zeros((self.n_classes, self.n_features), dtype= np.float64)\n",
        "    self.priors= np.zeros(self.n_classes, dtype= np.float64)\n",
        "\n",
        "    # calculate mean, var for each feature, prior for each class \n",
        "    for index, c in enumerate(self.classes):\n",
        "      x_class= x[y==c]\n",
        "      self.mean[index,:]= x_class.mean(axis= 0)\n",
        "      self.var[index,:]= x_class.var(axis=0)\n",
        "      self.priors[index]= x_class.shape[0]/ float(self.n_examples)\n",
        "      \n",
        "\n",
        "  def predict(self, x):\n",
        "    y_pred = [self.calculate_posterior(x_example) for x_example in x]\n",
        "    y_pred= np.array(y_pred)\n",
        "    return y_pred\n",
        "\n",
        "      \n",
        "  def calculate_posterior(self, x_example):\n",
        "    posteriors=[]\n",
        "    for index, c in enumerate(self.classes):\n",
        "      prior= np.log(self.priors[index])\n",
        "      class_conditional= np.sum(np.log(self.gausian_dis(index, x_example)))\n",
        "      posterior = prior + class_conditional\n",
        "      posteriors.append(posterior)\n",
        "\n",
        "    #sorted_posteriors\n",
        "    return self.classes[np.argmax(posteriors)]\n",
        "\n",
        "  \n",
        "  def gausian_dis(self, class_index, x):\n",
        "    # calculate gausian distribution for each class \n",
        "    c_feature_mean= self.mean[class_index]\n",
        "    c_feature_var= self.var[class_index]\n",
        "\n",
        "    numerator = np.exp(-((x - c_feature_mean) ** 2) / (2 * c_feature_var))\n",
        "    denominator = np.sqrt(2 * np.pi * c_feature_var)\n",
        "    return numerator/denominator\n"
      ],
      "execution_count": 49,
      "outputs": []
    },
    {
      "cell_type": "code",
      "metadata": {
        "colab": {
          "base_uri": "https://localhost:8080/"
        },
        "id": "4AOvuWcNnxz9",
        "outputId": "c9de5fe3-54ee-42fc-e592-6e4a283b3efc"
      },
      "source": [
        "# test\n",
        "\n",
        "NB= Naive_Bayes()\n",
        "NB.fit(x_train, y_train)\n",
        "y_pred= NB.predict(x_test)\n",
        "\n",
        "def accuracy(y_true, y_pred):\n",
        "  accuracy= np.sum(y_true==y_pred)/ len(y_true)\n",
        "  return accuracy\n",
        "\n",
        "\n",
        "print(\"accuracy= {}\".format(accuracy(y_test, y_pred)))"
      ],
      "execution_count": 50,
      "outputs": [
        {
          "output_type": "stream",
          "name": "stdout",
          "text": [
            "accuracy= 0.945\n"
          ]
        }
      ]
    },
    {
      "cell_type": "code",
      "metadata": {
        "id": "uAsjH4_2n0WU"
      },
      "source": [
        ""
      ],
      "execution_count": null,
      "outputs": []
    }
  ]
}