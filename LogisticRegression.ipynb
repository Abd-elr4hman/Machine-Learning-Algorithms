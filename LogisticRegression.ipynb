{
  "nbformat": 4,
  "nbformat_minor": 0,
  "metadata": {
    "colab": {
      "name": "LogisticRegression.ipynb",
      "provenance": [],
      "collapsed_sections": [],
      "authorship_tag": "ABX9TyMmQk2hRdgEM9xpWwrAT2LU",
      "include_colab_link": true
    },
    "kernelspec": {
      "name": "python3",
      "display_name": "Python 3"
    },
    "language_info": {
      "name": "python"
    }
  },
  "cells": [
    {
      "cell_type": "markdown",
      "metadata": {
        "id": "view-in-github",
        "colab_type": "text"
      },
      "source": [
        "<a href=\"https://colab.research.google.com/github/Abd-elr4hman/Machine-Learning-alogarithms/blob/main/LogisticRegression.ipynb\" target=\"_parent\"><img src=\"https://colab.research.google.com/assets/colab-badge.svg\" alt=\"Open In Colab\"/></a>"
      ]
    },
    {
      "cell_type": "code",
      "metadata": {
        "id": "Dz1vMgCpjuhX"
      },
      "source": [
        "import numpy as np\n",
        "from sklearn.model_selection import train_test_split\n",
        "from sklearn import datasets\n",
        "import matplotlib.pyplot as plt"
      ],
      "execution_count": 2,
      "outputs": []
    },
    {
      "cell_type": "code",
      "metadata": {
        "id": "Bt2m0KLlmaex"
      },
      "source": [
        "class LogisticRegression:\n",
        "  def __init__(self, lr=0.001, iterations= 1000):\n",
        "    self.lr=lr \n",
        "    self.iterations= iterations\n",
        "    self.weights= None\n",
        "    self.bias= None   \n",
        "  \n",
        "  def fit(self, x, y):\n",
        "    # init parameters\n",
        "    n_examples, n_features= x.shape\n",
        "    self.weights= np.zeros(n_features)\n",
        "    self.bias= np.zeros(1)\n",
        "    \n",
        "    for _ in range(self.iterations):\n",
        "      linear_poly= np.dot(x, self.weights) + self.bias\n",
        "      y_pred= self.sigmoid(linear_poly)\n",
        "      dw= (1/n_examples) * np.dot(x.T, (y_pred - y))\n",
        "      db= (1/n_examples) * np.sum(y_pred - y)\n",
        "      self.weights -= self.lr * dw\n",
        "      self.bias -= self.lr * db\n",
        "  \n",
        "  def predict(self, x):\n",
        "    linear_poly= np.dot(x, self.weights) + self.bias\n",
        "    y_pred= self.sigmoid(linear_poly)\n",
        "    y_pred_classes= [1 if prob > 0.5 else 0 for prob in y_pred]\n",
        "    return y_pred_classes\n",
        "    \n",
        "  \n",
        "  def sigmoid(self, x):\n",
        "    return 1/(1 + np.exp(-x))\n"
      ],
      "execution_count": 3,
      "outputs": []
    },
    {
      "cell_type": "code",
      "metadata": {
        "colab": {
          "base_uri": "https://localhost:8080/"
        },
        "id": "agx8TrXjoolJ",
        "outputId": "85410788-5d87-4b73-e62b-5a4ce93574e4"
      },
      "source": [
        "breast_cancer= datasets.load_breast_cancer()\n",
        "print(breast_cancer.data.shape)\n",
        "print(breast_cancer.target.shape)\n"
      ],
      "execution_count": 4,
      "outputs": [
        {
          "output_type": "stream",
          "name": "stdout",
          "text": [
            "(569, 30)\n",
            "(569,)\n"
          ]
        }
      ]
    },
    {
      "cell_type": "code",
      "metadata": {
        "colab": {
          "base_uri": "https://localhost:8080/",
          "height": 282
        },
        "id": "0YzQtn6ipEsJ",
        "outputId": "eee945db-edda-4b75-d436-20a88c9e0f7a"
      },
      "source": [
        "x, y= breast_cancer.data, breast_cancer.target\n",
        "x_train, x_test, y_train, y_test= train_test_split(x,y, test_size=.2, random_state= 1234)\n",
        "plt.scatter(x[:, 0],y)"
      ],
      "execution_count": 5,
      "outputs": [
        {
          "output_type": "execute_result",
          "data": {
            "text/plain": [
              "<matplotlib.collections.PathCollection at 0x7f4741733a90>"
            ]
          },
          "metadata": {},
          "execution_count": 5
        },
        {
          "output_type": "display_data",
          "data": {
            "image/png": "[encoded data removed]",
            "text/plain": [
              "<Figure size 432x288 with 1 Axes>"
            ]
          },
          "metadata": {
            "needs_background": "light"
          }
        }
      ]
    },
    {
      "cell_type": "code",
      "metadata": {
        "id": "aSFyMPBwqR6y"
      },
      "source": [
        "regressor= LogisticRegression(lr= 0.0001)\n",
        "regressor.fit(x_train, y_train)\n",
        "predictions= regressor.predict(x_test)"
      ],
      "execution_count": 6,
      "outputs": []
    },
    {
      "cell_type": "code",
      "metadata": {
        "colab": {
          "base_uri": "https://localhost:8080/",
          "height": 282
        },
        "id": "RdpSYBDls8nA",
        "outputId": "0f44865d-e9b2-4dbe-8848-cdcaa429ddef"
      },
      "source": [
        "fig, ax= plt.subplots(2, 1)\n",
        "ax[0].scatter(x_test[:, 0], predictions)\n",
        "ax[1].scatter(x_test[:, 0], y_test)"
      ],
      "execution_count": 7,
      "outputs": [
        {
          "output_type": "execute_result",
          "data": {
            "text/plain": [
              "<matplotlib.collections.PathCollection at 0x7f4739253bd0>"
            ]
          },
          "metadata": {},
          "execution_count": 7
        },
        {
          "output_type": "display_data",
          "data": {
            "image/png": "[encoded data removed]",
            "text/plain": [
              "<Figure size 432x288 with 2 Axes>"
            ]
          },
          "metadata": {
            "needs_background": "light"
          }
        }
      ]
    },
    {
      "cell_type": "code",
      "metadata": {
        "id": "KNjg46V1t1Cs"
      },
      "source": [
        "def accuracy(y_true, y_pred):\n",
        "  accuracy= np.sum(y_true==y_pred)/ len(y_true)\n",
        "  return accuracy"
      ],
      "execution_count": 8,
      "outputs": []
    },
    {
      "cell_type": "code",
      "metadata": {
        "colab": {
          "base_uri": "https://localhost:8080/"
        },
        "id": "rR6mVx3BvKzV",
        "outputId": "592cf912-b218-4e4c-e8f1-61fa91a4e6bf"
      },
      "source": [
        "print(\"accuracy= {}\".format(accuracy(y_test, predictions)))"
      ],
      "execution_count": 9,
      "outputs": [
        {
          "output_type": "stream",
          "name": "stdout",
          "text": [
            "accuracy= 0.9298245614035088\n"
          ]
        }
      ]
    },
    {
      "cell_type": "code",
      "metadata": {
        "id": "Lp8foe0ovg9d"
      },
      "source": [
        ""
      ],
      "execution_count": null,
      "outputs": []
    }
  ]
}