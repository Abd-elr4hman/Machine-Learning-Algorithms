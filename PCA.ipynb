{
  "nbformat": 4,
  "nbformat_minor": 0,
  "metadata": {
    "colab": {
      "name": "PCA.ipynb",
      "provenance": [],
      "collapsed_sections": [],
      "authorship_tag": "ABX9TyMhUfm65gny+9WGyK70FLx1",
      "include_colab_link": true
    },
    "kernelspec": {
      "name": "python3",
      "display_name": "Python 3"
    },
    "language_info": {
      "name": "python"
    }
  },
  "cells": [
    {
      "cell_type": "markdown",
      "metadata": {
        "id": "view-in-github",
        "colab_type": "text"
      },
      "source": [
        "<a href=\"https://colab.research.google.com/github/Abd-elr4hman/Machine-Learning-Algorithms/blob/main/PCA.ipynb\" target=\"_parent\"><img src=\"https://colab.research.google.com/assets/colab-badge.svg\" alt=\"Open In Colab\"/></a>"
      ]
    },
    {
      "cell_type": "code",
      "metadata": {
        "id": "a7aEN7YQQzfH"
      },
      "source": [
        "import numpy as np\n",
        "import matplotlib.pyplot as plt\n",
        "import seaborn as sns\n",
        "from sklearn import datasets"
      ],
      "execution_count": 1,
      "outputs": []
    },
    {
      "cell_type": "code",
      "metadata": {
        "id": "nJKP2JKFQzgJ"
      },
      "source": [
        "class PCA:\n",
        "  def __init__(self, n_dimensions):\n",
        "    self.n_dimensions= n_dimensions\n",
        "    self.n_eigen_vectors= None\n",
        "    self.mean= None\n",
        "\n",
        "\n",
        "  def fit(self, x):\n",
        "    # mean\n",
        "    self.mean= np.mean(x, axis=0)\n",
        "    x= x - self.mean\n",
        "\n",
        "    # covarience\n",
        "    cov= np.cov(x.T)\n",
        "\n",
        "    # eigen_vectors, eigen_values\n",
        "    eigen_values, eigen_vectors= np.linalg.eig(cov)\n",
        "    eigen_vectors= eigen_vectors.T\n",
        "  \n",
        "    # sort eigen_vectors\n",
        "    indices= np.argsort(eigen_values)[::-1]\n",
        "    eigen_values= eigen_values[indices]\n",
        "    eigen_vectors= eigen_vectors[indices]\n",
        "\n",
        "    # keep first n eign_vectors\n",
        "    self.n_eigen_vectors= eigen_vectors[0:self.n_dimensions]\n",
        "\n",
        "  def transform(self, x):\n",
        "    x= x - self.mean\n",
        "    return np.dot(x, self.n_eigen_vectors.T)\n",
        "  \n",
        "  def n_eigen_vectors_retreval(self):\n",
        "    return self.n_eigen_vectors\n",
        "\n"
      ],
      "execution_count": 2,
      "outputs": []
    },
    {
      "cell_type": "code",
      "metadata": {
        "id": "WHg5lZnYXoop",
        "colab": {
          "base_uri": "https://localhost:8080/",
          "height": 299
        },
        "outputId": "189b7f41-97e7-40f0-a9e2-ce12a895e2e8"
      },
      "source": [
        "# create data\n",
        "X, y= datasets.make_regression(n_samples=100, n_features=1, noise= 20, random_state=4)\n",
        "x= X.reshape((100,))\n",
        "x= np.array([x,y]).T\n",
        "print(x.shape)\n",
        "plt.scatter(x[:,0], x[:,1])"
      ],
      "execution_count": 3,
      "outputs": [
        {
          "output_type": "stream",
          "name": "stdout",
          "text": [
            "(100, 2)\n"
          ]
        },
        {
          "output_type": "execute_result",
          "data": {
            "text/plain": [
              "<matplotlib.collections.PathCollection at 0x7fe1678a2510>"
            ]
          },
          "metadata": {},
          "execution_count": 3
        },
        {
          "output_type": "display_data",
          "data": {
            "image/png": "[encoded data removed]",
            "text/plain": [
              "<Figure size 432x288 with 1 Axes>"
            ]
          },
          "metadata": {
            "needs_background": "light"
          }
        }
      ]
    },
    {
      "cell_type": "code",
      "metadata": {
        "id": "IFp7gN8CYjdS"
      },
      "source": [
        "# perform dimensionality reduction with pca\n",
        "pca= PCA(1)\n",
        "pca.fit(x)\n",
        "x_projection= pca.transform(x)"
      ],
      "execution_count": 4,
      "outputs": []
    },
    {
      "cell_type": "code",
      "metadata": {
        "colab": {
          "base_uri": "https://localhost:8080/"
        },
        "id": "UAe4ZKbG9_Lw",
        "outputId": "b5238aa5-110a-4acf-fb3c-364cae4081c9"
      },
      "source": [
        "x_projection.shape"
      ],
      "execution_count": 5,
      "outputs": [
        {
          "output_type": "execute_result",
          "data": {
            "text/plain": [
              "(100, 1)"
            ]
          },
          "metadata": {},
          "execution_count": 5
        }
      ]
    },
    {
      "cell_type": "code",
      "metadata": {
        "id": "azvi29qYr5cO"
      },
      "source": [
        "# get eign vector line \n",
        "def eigen_vector_plot():\n",
        "  eigen_vector= pca.n_eigen_vectors_retreval()\n",
        "  g= np.array([[0, 0], [eigen_vector[0,0], eigen_vector[0, 1]]])\n",
        "\n",
        "  lis=[]\n",
        "  m= (g[1,1]-g[0,1])/(g[1, 0]-g[0, 0])\n",
        "  for i in range(-3, 4):\n",
        "    point= np.array([i, m*i])\n",
        "    lis.append(point)\n",
        "  arr = np.asarray(lis)\n",
        "  return arr,m\n",
        "\n",
        "eigen_vector_line, m= eigen_vector_plot()"
      ],
      "execution_count": 6,
      "outputs": []
    },
    {
      "cell_type": "code",
      "metadata": {
        "id": "sdXsxMhy54EM"
      },
      "source": [
        "# get x and y values for projections\n",
        "def projection_xny(x_projection, m):\n",
        "  lis_of_xny=[]\n",
        "  theta= np.arctan(m)\n",
        "  cos_theta= np.cos(theta)\n",
        "  for point in x_projection:\n",
        "    x_length= point * cos_theta\n",
        "    y_length= m * x_length\n",
        "    ex= np.array([x_length, y_length])\n",
        "    lis_of_xny.append(ex)\n",
        "  arr= np.asarray(lis_of_xny)\n",
        "  arr= arr.reshape((100,2))\n",
        "  return arr\n",
        "\n",
        "projections_xny= projection_xny(x_projection, m)\n"
      ],
      "execution_count": 7,
      "outputs": []
    },
    {
      "cell_type": "code",
      "metadata": {
        "colab": {
          "base_uri": "https://localhost:8080/",
          "height": 282
        },
        "id": "dIGv3c7z0A6Q",
        "outputId": "d97d402d-8fd0-4913-ed39-747ba3fdf9f5"
      },
      "source": [
        "# plot \n",
        "fig, ax =plt.subplots(2,1, sharey= True, sharex= True)\n",
        "ax[0].scatter(x[:,0], x[:,1])\n",
        "\n",
        "ax[1].plot(eigen_vector_line[:,0], eigen_vector_line[:,1])\n",
        "ax[1].scatter(projections_xny[:,0], projections_xny[:,1])"
      ],
      "execution_count": 8,
      "outputs": [
        {
          "output_type": "execute_result",
          "data": {
            "text/plain": [
              "<matplotlib.collections.PathCollection at 0x7fe16735ead0>"
            ]
          },
          "metadata": {},
          "execution_count": 8
        },
        {
          "output_type": "display_data",
          "data": {
            "image/png": "[encoded data removed]",
            "text/plain": [
              "<Figure size 432x288 with 2 Axes>"
            ]
          },
          "metadata": {
            "needs_background": "light"
          }
        }
      ]
    }
  ]
}