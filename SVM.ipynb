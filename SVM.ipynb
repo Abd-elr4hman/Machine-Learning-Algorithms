{
  "nbformat": 4,
  "nbformat_minor": 0,
  "metadata": {
    "colab": {
      "name": "SVM.ipynb",
      "provenance": [],
      "collapsed_sections": [],
      "authorship_tag": "ABX9TyM9gDeTBA3AvJ52RD+CE3F1",
      "include_colab_link": true
    },
    "kernelspec": {
      "name": "python3",
      "display_name": "Python 3"
    },
    "language_info": {
      "name": "python"
    }
  },
  "cells": [
    {
      "cell_type": "markdown",
      "metadata": {
        "id": "view-in-github",
        "colab_type": "text"
      },
      "source": [
        "<a href=\"https://colab.research.google.com/github/Abd-elr4hman/Machine-Learning-alogarithms/blob/main/SVM.ipynb\" target=\"_parent\"><img src=\"https://colab.research.google.com/assets/colab-badge.svg\" alt=\"Open In Colab\"/></a>"
      ]
    },
    {
      "cell_type": "code",
      "metadata": {
        "id": "68nhZFDgL-xr"
      },
      "source": [
        "import numpy as np\n",
        "from sklearn.model_selection import train_test_split\n",
        "from sklearn import datasets\n",
        "import matplotlib.pyplot as plt"
      ],
      "execution_count": 1,
      "outputs": []
    },
    {
      "cell_type": "code",
      "metadata": {
        "colab": {
          "base_uri": "https://localhost:8080/"
        },
        "id": "s3beZjvCpC4F",
        "outputId": "86e5b44e-68a4-4655-8e1e-9f2b9a1d340e"
      },
      "source": [
        "x,y= datasets.make_blobs(n_samples=50, n_features=2, centers=2, cluster_std=1.05, random_state=40)\n",
        "print(x.shape)\n",
        "print(y.shape)\n",
        "y=np.where(y==0, -1, 1)"
      ],
      "execution_count": 2,
      "outputs": [
        {
          "output_type": "stream",
          "name": "stdout",
          "text": [
            "(50, 2)\n",
            "(50,)\n"
          ]
        }
      ]
    },
    {
      "cell_type": "code",
      "metadata": {
        "colab": {
          "base_uri": "https://localhost:8080/",
          "height": 282
        },
        "id": "lbfPtVffp-9B",
        "outputId": "25ef7a66-315d-4141-adf3-8f48552cfe59"
      },
      "source": [
        "fig, ax= plt.subplots()\n",
        "ax.scatter(x[:,0],x[:, 1])"
      ],
      "execution_count": 3,
      "outputs": [
        {
          "output_type": "execute_result",
          "data": {
            "text/plain": [
              "<matplotlib.collections.PathCollection at 0x7f503f7f4410>"
            ]
          },
          "metadata": {},
          "execution_count": 3
        },
        {
          "output_type": "display_data",
          "data": {
            "image/png": "[encoded data removed]",
            "text/plain": [
              "<Figure size 432x288 with 1 Axes>"
            ]
          },
          "metadata": {
            "needs_background": "light"
          }
        }
      ]
    },
    {
      "cell_type": "code",
      "metadata": {
        "id": "ZVANUUm5MZT-"
      },
      "source": [
        "class SVM:\n",
        "  def __init__(self, lr= 0.001,lambda_param=0.01, iterations=1000):\n",
        "    self.lr= lr \n",
        "    self.lambda_param= lambda_param\n",
        "    self.iterations= iterations\n",
        "    self.w= None\n",
        "    self.b= None\n",
        "\n",
        "  def fit(self, x, y):\n",
        "    n_examples, n_features= x.shape\n",
        "    self.w= np.zeros(n_features)\n",
        "    self.b= np.zeros(1)\n",
        "\n",
        "    for _ in range(self.iterations):\n",
        "      for index, x_i in enumerate(x):\n",
        "        condition= y[index] * (np.dot(x_i, self.w) - self.b) >= 1\n",
        "        if condition:\n",
        "          self.w -= self.lr * (2 * self.lambda_param * self.w)\n",
        "        else:\n",
        "          self.w -= self.lr * (2 * self.lambda_param * self.w - np.dot(x_i, y[index]))\n",
        "          self.b -= self.lr * y[index]\n",
        "  \n",
        "  def predict(self, x):\n",
        "    linear_poly= np.dot(x, self.w) - self.b\n",
        "    return np.sign(linear_poly)"
      ],
      "execution_count": 4,
      "outputs": []
    },
    {
      "cell_type": "code",
      "metadata": {
        "colab": {
          "base_uri": "https://localhost:8080/",
          "height": 316
        },
        "id": "JD3-tDnStYwl",
        "outputId": "e6757eb3-9fd3-4524-e1dd-bc9144f20168"
      },
      "source": [
        "margin_classifier= SVM()\n",
        "margin_classifier.fit(x, y)\n",
        "\n",
        "x_test,y_test= datasets.make_blobs(n_samples=50, n_features=2, centers=2, cluster_std=1.05, random_state=50)\n",
        "print(x.shape)\n",
        "print(y.shape)\n",
        "y_test=np.where(y==0, -1, 1)\n",
        "\n",
        "fig, ax= plt.subplots()\n",
        "ax.scatter(x_test[:,0],x_test[:, 1])\n",
        "\n"
      ],
      "execution_count": 5,
      "outputs": [
        {
          "output_type": "stream",
          "name": "stdout",
          "text": [
            "(50, 2)\n",
            "(50,)\n"
          ]
        },
        {
          "output_type": "execute_result",
          "data": {
            "text/plain": [
              "<matplotlib.collections.PathCollection at 0x7f503f2eaf90>"
            ]
          },
          "metadata": {},
          "execution_count": 5
        },
        {
          "output_type": "display_data",
          "data": {
            "image/png": "[encoded data removed]",
            "text/plain": [
              "<Figure size 432x288 with 1 Axes>"
            ]
          },
          "metadata": {
            "needs_background": "light"
          }
        }
      ]
    },
    {
      "cell_type": "code",
      "metadata": {
        "colab": {
          "base_uri": "https://localhost:8080/"
        },
        "id": "htA0knN_0zam",
        "outputId": "e7bad615-4717-432b-f216-f3722f87ad53"
      },
      "source": [
        "prediction= margin_classifier.predict(x_test)\n",
        "print(prediction.shape)"
      ],
      "execution_count": 6,
      "outputs": [
        {
          "output_type": "stream",
          "name": "stdout",
          "text": [
            "(50,)\n"
          ]
        }
      ]
    },
    {
      "cell_type": "code",
      "metadata": {
        "id": "K0S-mUyXuoMD"
      },
      "source": [
        "def accuracy(y_true, y_pred):\n",
        "  accuracy= np.sum(y_true==y_pred)/ len(y_true)\n",
        "  return accuracy\n",
        "\n",
        "print(\"accuracy= {}\".format(accuracy(y_test, prediction)))"
      ],
      "execution_count": null,
      "outputs": []
    }
  ]
}