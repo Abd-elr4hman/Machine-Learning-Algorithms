{
  "nbformat": 4,
  "nbformat_minor": 0,
  "metadata": {
    "colab": {
      "name": "LinearRegression.ipynb",
      "provenance": [],
      "collapsed_sections": [],
      "authorship_tag": "ABX9TyMKnN0bxVIPuHPDVOs1NpHo",
      "include_colab_link": true
    },
    "kernelspec": {
      "name": "python3",
      "display_name": "Python 3"
    },
    "language_info": {
      "name": "python"
    }
  },
  "cells": [
    {
      "cell_type": "markdown",
      "metadata": {
        "id": "view-in-github",
        "colab_type": "text"
      },
      "source": [
        "<a href=\"https://colab.research.google.com/github/Abd-elr4hman/Machine-Learning-alogarithms/blob/main/LinearRegression.ipynb\" target=\"_parent\"><img src=\"https://colab.research.google.com/assets/colab-badge.svg\" alt=\"Open In Colab\"/></a>"
      ]
    },
    {
      "cell_type": "code",
      "metadata": {
        "id": "k_JUsXeXASF8"
      },
      "source": [
        "import numpy as np\n",
        "from sklearn.model_selection import train_test_split\n",
        "from sklearn import datasets\n",
        "import matplotlib.pyplot as plt"
      ],
      "execution_count": null,
      "outputs": []
    },
    {
      "cell_type": "code",
      "metadata": {
        "id": "XmKSkCjDAljV"
      },
      "source": [
        "x, y= datasets.make_regression(n_samples=100, n_features=1, noise= 20, random_state=4)\n",
        "x_train, x_test, y_train, y_test= train_test_split(x,y, test_size=.2, random_state= 1234)"
      ],
      "execution_count": null,
      "outputs": []
    },
    {
      "cell_type": "code",
      "metadata": {
        "colab": {
          "base_uri": "https://localhost:8080/",
          "height": 282
        },
        "id": "yPlJ5CbPBjqj",
        "outputId": "34b54cdb-8934-429d-8cb3-686a79e38dbf"
      },
      "source": [
        "plt.scatter(x,y)"
      ],
      "execution_count": null,
      "outputs": [
        {
          "output_type": "execute_result",
          "data": {
            "text/plain": [
              "<matplotlib.collections.PathCollection at 0x7fbc89271a90>"
            ]
          },
          "metadata": {},
          "execution_count": 39
        },
        {
          "output_type": "display_data",
          "data": {
            "image/png": "[encoded data removed]",
            "text/plain": [
              "<Figure size 432x288 with 1 Axes>"
            ]
          },
          "metadata": {
            "needs_background": "light"
          }
        }
      ]
    },
    {
      "cell_type": "code",
      "metadata": {
        "id": "V-UcK_-S-Mxz"
      },
      "source": [
        "class LinearRegression :\n",
        "  def __init__(self, lr= 0.001, iterations=1000):\n",
        "    self.lr=lr \n",
        "    self.iterations= iterations\n",
        "    self.weights= None\n",
        "    self.bias= None\n",
        "\n",
        "  def fit(self, x, y):\n",
        "    # init parameters\n",
        "    n_examples, n_features= x.shape\n",
        "    self.weights= np.zeros(n_features)\n",
        "    self.bias= np.zeros(1)\n",
        "\n",
        "    for _ in range(self.iterations):\n",
        "      y_pred= np.dot(x, self.weights) + self.bias\n",
        "      dw= (1/n_examples) * np.dot(x.T, (y_pred - y))\n",
        "      db= (1/n_examples) * np.sum(y_pred - y)\n",
        "      self.weights -= self.lr * dw\n",
        "      self.bias -= self.lr * db\n",
        "  \n",
        "  def predict(self, x):\n",
        "    y_pred= np.dot(x, self.weights) + self.bias\n",
        "    return y_pred\n"
      ],
      "execution_count": null,
      "outputs": []
    },
    {
      "cell_type": "code",
      "metadata": {
        "id": "N8k2RLyiDXZq"
      },
      "source": [
        "regressor= LinearRegression(lr=0.01)\n",
        "regressor.fit(x_train, y_train)\n",
        "prediction= regressor.predict(x_test)"
      ],
      "execution_count": null,
      "outputs": []
    },
    {
      "cell_type": "code",
      "metadata": {
        "colab": {
          "base_uri": "https://localhost:8080/",
          "height": 282
        },
        "id": "O_qZImMcDYZs",
        "outputId": "d5e11cf7-c078-4e02-cf8c-5f5e5bf6e5bd"
      },
      "source": [
        "fig, ax= plt.subplots()\n",
        "ax.scatter(x_test, y_test)\n",
        "ax.plot(x_test, prediction)"
      ],
      "execution_count": null,
      "outputs": [
        {
          "output_type": "execute_result",
          "data": {
            "text/plain": [
              "[<matplotlib.lines.Line2D at 0x7fbc8927c090>]"
            ]
          },
          "metadata": {},
          "execution_count": 35
        },
        {
          "output_type": "display_data",
          "data": {
            "image/png": "[encoded data removed]",
            "text/plain": [
              "<Figure size 432x288 with 1 Axes>"
            ]
          },
          "metadata": {
            "needs_background": "light"
          }
        }
      ]
    },
    {
      "cell_type": "code",
      "metadata": {
        "id": "96OhNKwzIma_"
      },
      "source": [
        ""
      ],
      "execution_count": null,
      "outputs": []
    }
  ]
}